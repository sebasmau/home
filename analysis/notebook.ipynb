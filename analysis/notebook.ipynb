{
 "cells": [
  {
   "cell_type": "code",
   "execution_count": 94,
   "metadata": {},
   "outputs": [],
   "source": [
    "import pyrebase\n",
    "import json\n",
    "\n",
    "with open('../.streamlit/secrets.txt') as f:\n",
    "    lines = f.read()\n",
    "config = json.loads(lines)\n",
    "\n",
    "firebase = pyrebase.initialize_app(config)"
   ]
  },
  {
   "cell_type": "code",
   "execution_count": 95,
   "metadata": {},
   "outputs": [],
   "source": [
    "auth = firebase.auth()\n",
    "db = firebase.database()\n",
    "storage = firebase.storage()"
   ]
  },
  {
   "cell_type": "code",
   "execution_count": null,
   "metadata": {},
   "outputs": [],
   "source": [
    "user = auth.create_user_with_email_and_password(\"sebastien.mauroo@outlook.com\",\"123456\")"
   ]
  },
  {
   "cell_type": "code",
   "execution_count": 98,
   "metadata": {},
   "outputs": [],
   "source": [
    "try:\n",
    "    signin = auth.sign_in_with_email_and_password(\"sebastien.mauroo@outlook.com\",\"1234567\")\n",
    "except:\n",
    "    signin ={\"login failed\"}"
   ]
  },
  {
   "cell_type": "code",
   "execution_count": 99,
   "metadata": {},
   "outputs": [
    {
     "data": {
      "text/plain": [
       "{'kind': 'identitytoolkit#VerifyPasswordResponse',\n",
       " 'localId': '8Ghnt52aWANjzWEUTwhWpFkp8832',\n",
       " 'email': 'sebastien.mauroo@outlook.com',\n",
       " 'displayName': '',\n",
       " 'idToken': 'eyJhbGciOiJSUzI1NiIsImtpZCI6IjE1YzJiNDBhYTJmMzIyNzk4NjY2YTZiMzMyYWFhMDNhNjc3MzAxOWIiLCJ0eXAiOiJKV1QifQ.eyJpc3MiOiJodHRwczovL3NlY3VyZXRva2VuLmdvb2dsZS5jb20vbXktZmlyc3QtcHJvamVjdC00ZGY1NiIsImF1ZCI6Im15LWZpcnN0LXByb2plY3QtNGRmNTYiLCJhdXRoX3RpbWUiOjE2NzcxNzIxNTEsInVzZXJfaWQiOiI4R2hudDUyYVdBTmp6V0VVVHdoV3BGa3A4ODMyIiwic3ViIjoiOEdobnQ1MmFXQU5qeldFVVR3aFdwRmtwODgzMiIsImlhdCI6MTY3NzE3MjE1MSwiZXhwIjoxNjc3MTc1NzUxLCJlbWFpbCI6InNlYmFzdGllbi5tYXVyb29Ab3V0bG9vay5jb20iLCJlbWFpbF92ZXJpZmllZCI6dHJ1ZSwiZmlyZWJhc2UiOnsiaWRlbnRpdGllcyI6eyJlbWFpbCI6WyJzZWJhc3RpZW4ubWF1cm9vQG91dGxvb2suY29tIl19LCJzaWduX2luX3Byb3ZpZGVyIjoicGFzc3dvcmQifX0.OAacqxj5HjD5JvF9Y8-QQs2gBq8aXecHun4lzPRz3NEKFwpzvgSwB-zPaRI20uzxAXncEsl8JChWn1ISwQfDHyPrD-8Zz9KUu4kPivlv6ZllxN0csx-TnOoDJeqrDm_CfxmF1VaqhsH7lwCOViLQw2vEcNILaHxY6T2e7nZ__nX1fo_fD-Tbw6hYSWfTwWkKr600bwW1lzDkFMD23JeROT1QRowHN3uMQwuoCC2gYoou2M28RQLJRo-mWXmujzvvbiodZ_68DRFZmhfqSuajfA5DZ-crwDTb9ikdLjF6pK8jnPsPh86kuo9ZaoBm9mAvWHD048eZsdVNmCcrRFoXAg',\n",
       " 'registered': True,\n",
       " 'refreshToken': 'APJWN8cjhuzCzHs586zMXjX9Ug5MNl6Anf2C9_FayBVjDisDXtM3OcirRaVt1iQYYatleWQk-sebfAFwhdVCq107w1moTOudw0qCPgcE36myhjQgSEe_a5Rlxjdtzo9LXk8aRAd9tCi3IieZi5L20-hu7CI0LoYAYyWh3c3PxFmhPEpQy9KdvLAEpDstVoqXvhiJH2JnPJETGjowxtUSTQx5-HKAD5Ipuels15Q1Lb4UXxMmfCRXiP7DvnkQL-JYkkjckRxlnN-o',\n",
       " 'expiresIn': '3600'}"
      ]
     },
     "execution_count": 99,
     "metadata": {},
     "output_type": "execute_result"
    }
   ],
   "source": [
    "signin"
   ]
  },
  {
   "cell_type": "code",
   "execution_count": null,
   "metadata": {},
   "outputs": [],
   "source": [
    "firebase.auth().send_email_verification(signin['idToken'])"
   ]
  },
  {
   "cell_type": "code",
   "execution_count": 112,
   "metadata": {},
   "outputs": [
    {
     "data": {
      "text/plain": [
       "{'kind': 'identitytoolkit#GetOobConfirmationCodeResponse',\n",
       " 'email': 'sebastien.mauroo@outlook.com'}"
      ]
     },
     "execution_count": 112,
     "metadata": {},
     "output_type": "execute_result"
    }
   ],
   "source": [
    "firebase.auth().send_password_reset_email(\"sebastien.mauroo@outlook.com\")"
   ]
  },
  {
   "cell_type": "code",
   "execution_count": 100,
   "metadata": {},
   "outputs": [
    {
     "data": {
      "text/plain": [
       "{'kind': 'identitytoolkit#GetAccountInfoResponse',\n",
       " 'users': [{'localId': '8Ghnt52aWANjzWEUTwhWpFkp8832',\n",
       "   'email': 'sebastien.mauroo@outlook.com',\n",
       "   'passwordHash': 'UkVEQUNURUQ=',\n",
       "   'emailVerified': True,\n",
       "   'passwordUpdatedAt': 1677172127749,\n",
       "   'providerUserInfo': [{'providerId': 'password',\n",
       "     'federatedId': 'sebastien.mauroo@outlook.com',\n",
       "     'email': 'sebastien.mauroo@outlook.com',\n",
       "     'rawId': 'sebastien.mauroo@outlook.com'}],\n",
       "   'validSince': '1677172127',\n",
       "   'lastLoginAt': '1677172150895',\n",
       "   'createdAt': '1677102536535',\n",
       "   'lastRefreshAt': '2023-02-23T17:09:10.895Z'}]}"
      ]
     },
     "execution_count": 100,
     "metadata": {},
     "output_type": "execute_result"
    }
   ],
   "source": [
    "auth.get_account_info(signin['idToken'])"
   ]
  },
  {
   "cell_type": "code",
   "execution_count": 108,
   "metadata": {},
   "outputs": [
    {
     "data": {
      "text/plain": [
       "{'name': \"Mortimer 'Morty' Smith\"}"
      ]
     },
     "execution_count": 108,
     "metadata": {},
     "output_type": "execute_result"
    }
   ],
   "source": [
    "data = {\"name\": \"Mortimer 'Morty' Smith\"}\n",
    "db.child(\"test\").set(data)"
   ]
  }
 ],
 "metadata": {
  "kernelspec": {
   "display_name": "Python 3",
   "language": "python",
   "name": "python3"
  },
  "language_info": {
   "codemirror_mode": {
    "name": "ipython",
    "version": 3
   },
   "file_extension": ".py",
   "mimetype": "text/x-python",
   "name": "python",
   "nbconvert_exporter": "python",
   "pygments_lexer": "ipython3",
   "version": "3.10.8"
  },
  "orig_nbformat": 4,
  "vscode": {
   "interpreter": {
    "hash": "ef5bd1a91bf266e76d73621220e2662b898087dd15c7c15334c6d7fb26c2c062"
   }
  }
 },
 "nbformat": 4,
 "nbformat_minor": 2
}
