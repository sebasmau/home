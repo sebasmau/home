{
 "cells": [
  {
   "cell_type": "code",
   "execution_count": 1,
   "metadata": {},
   "outputs": [],
   "source": [
    "import pyrebase\n",
    "import json\n",
    "import pandas as pd\n",
    "\n",
    "with open('../.streamlit/secrets.txt') as f:\n",
    "    lines = f.read()\n",
    "config = json.loads(lines)\n",
    "\n",
    "firebase = pyrebase.initialize_app(config)"
   ]
  },
  {
   "cell_type": "code",
   "execution_count": 2,
   "metadata": {},
   "outputs": [],
   "source": [
    "auth = firebase.auth()\n",
    "db = firebase.database()\n",
    "storage = firebase.storage()"
   ]
  },
  {
   "cell_type": "code",
   "execution_count": 4,
   "metadata": {},
   "outputs": [],
   "source": [
    "user = auth.create_user_with_email_and_password(\"sebastien.mauroo@patrick.com\",\"123456\")"
   ]
  },
  {
   "cell_type": "code",
   "execution_count": 98,
   "metadata": {},
   "outputs": [],
   "source": [
    "try:\n",
    "    signin = auth.sign_in_with_email_and_password(\"sebastien.mauroo@outlook.com\",\"1234567\")\n",
    "except:\n",
    "    signin ={\"login failed\"}"
   ]
  },
  {
   "cell_type": "code",
   "execution_count": 99,
   "metadata": {},
   "outputs": [
    {
     "data": {
      "text/plain": [
       "{'kind': 'identitytoolkit#VerifyPasswordResponse',\n",
       " 'localId': '8Ghnt52aWANjzWEUTwhWpFkp8832',\n",
       " 'email': 'sebastien.mauroo@outlook.com',\n",
       " 'displayName': '',\n",
       " 'idToken': 'eyJhbGciOiJSUzI1NiIsImtpZCI6IjE1YzJiNDBhYTJmMzIyNzk4NjY2YTZiMzMyYWFhMDNhNjc3MzAxOWIiLCJ0eXAiOiJKV1QifQ.eyJpc3MiOiJodHRwczovL3NlY3VyZXRva2VuLmdvb2dsZS5jb20vbXktZmlyc3QtcHJvamVjdC00ZGY1NiIsImF1ZCI6Im15LWZpcnN0LXByb2plY3QtNGRmNTYiLCJhdXRoX3RpbWUiOjE2NzcxNzIxNTEsInVzZXJfaWQiOiI4R2hudDUyYVdBTmp6V0VVVHdoV3BGa3A4ODMyIiwic3ViIjoiOEdobnQ1MmFXQU5qeldFVVR3aFdwRmtwODgzMiIsImlhdCI6MTY3NzE3MjE1MSwiZXhwIjoxNjc3MTc1NzUxLCJlbWFpbCI6InNlYmFzdGllbi5tYXVyb29Ab3V0bG9vay5jb20iLCJlbWFpbF92ZXJpZmllZCI6dHJ1ZSwiZmlyZWJhc2UiOnsiaWRlbnRpdGllcyI6eyJlbWFpbCI6WyJzZWJhc3RpZW4ubWF1cm9vQG91dGxvb2suY29tIl19LCJzaWduX2luX3Byb3ZpZGVyIjoicGFzc3dvcmQifX0.OAacqxj5HjD5JvF9Y8-QQs2gBq8aXecHun4lzPRz3NEKFwpzvgSwB-zPaRI20uzxAXncEsl8JChWn1ISwQfDHyPrD-8Zz9KUu4kPivlv6ZllxN0csx-TnOoDJeqrDm_CfxmF1VaqhsH7lwCOViLQw2vEcNILaHxY6T2e7nZ__nX1fo_fD-Tbw6hYSWfTwWkKr600bwW1lzDkFMD23JeROT1QRowHN3uMQwuoCC2gYoou2M28RQLJRo-mWXmujzvvbiodZ_68DRFZmhfqSuajfA5DZ-crwDTb9ikdLjF6pK8jnPsPh86kuo9ZaoBm9mAvWHD048eZsdVNmCcrRFoXAg',\n",
       " 'registered': True,\n",
       " 'refreshToken': 'APJWN8cjhuzCzHs586zMXjX9Ug5MNl6Anf2C9_FayBVjDisDXtM3OcirRaVt1iQYYatleWQk-sebfAFwhdVCq107w1moTOudw0qCPgcE36myhjQgSEe_a5Rlxjdtzo9LXk8aRAd9tCi3IieZi5L20-hu7CI0LoYAYyWh3c3PxFmhPEpQy9KdvLAEpDstVoqXvhiJH2JnPJETGjowxtUSTQx5-HKAD5Ipuels15Q1Lb4UXxMmfCRXiP7DvnkQL-JYkkjckRxlnN-o',\n",
       " 'expiresIn': '3600'}"
      ]
     },
     "execution_count": 99,
     "metadata": {},
     "output_type": "execute_result"
    }
   ],
   "source": [
    "signin"
   ]
  },
  {
   "cell_type": "code",
   "execution_count": null,
   "metadata": {},
   "outputs": [],
   "source": [
    "firebase.auth().send_email_verification(signin['idToken'])"
   ]
  },
  {
   "cell_type": "code",
   "execution_count": 112,
   "metadata": {},
   "outputs": [
    {
     "data": {
      "text/plain": [
       "{'kind': 'identitytoolkit#GetOobConfirmationCodeResponse',\n",
       " 'email': 'sebastien.mauroo@outlook.com'}"
      ]
     },
     "execution_count": 112,
     "metadata": {},
     "output_type": "execute_result"
    }
   ],
   "source": [
    "firebase.auth().send_password_reset_email(\"sebastien.mauroo@outlook.com\")"
   ]
  },
  {
   "cell_type": "code",
   "execution_count": 100,
   "metadata": {},
   "outputs": [
    {
     "data": {
      "text/plain": [
       "{'kind': 'identitytoolkit#GetAccountInfoResponse',\n",
       " 'users': [{'localId': '8Ghnt52aWANjzWEUTwhWpFkp8832',\n",
       "   'email': 'sebastien.mauroo@outlook.com',\n",
       "   'passwordHash': 'UkVEQUNURUQ=',\n",
       "   'emailVerified': True,\n",
       "   'passwordUpdatedAt': 1677172127749,\n",
       "   'providerUserInfo': [{'providerId': 'password',\n",
       "     'federatedId': 'sebastien.mauroo@outlook.com',\n",
       "     'email': 'sebastien.mauroo@outlook.com',\n",
       "     'rawId': 'sebastien.mauroo@outlook.com'}],\n",
       "   'validSince': '1677172127',\n",
       "   'lastLoginAt': '1677172150895',\n",
       "   'createdAt': '1677102536535',\n",
       "   'lastRefreshAt': '2023-02-23T17:09:10.895Z'}]}"
      ]
     },
     "execution_count": 100,
     "metadata": {},
     "output_type": "execute_result"
    }
   ],
   "source": [
    "auth.get_account_info(signin['idToken'])"
   ]
  },
  {
   "cell_type": "code",
   "execution_count": 108,
   "metadata": {},
   "outputs": [
    {
     "data": {
      "text/plain": [
       "{'name': \"Mortimer 'Morty' Smith\"}"
      ]
     },
     "execution_count": 108,
     "metadata": {},
     "output_type": "execute_result"
    }
   ],
   "source": [
    "data = {\"name\": \"Mortimer 'Morty' Smith\"}\n",
    "db.child(\"test\").set(data)"
   ]
  },
  {
   "cell_type": "code",
   "execution_count": 8,
   "metadata": {},
   "outputs": [],
   "source": [
    "dt = pd.read_csv(\"Verbruikshistoriek_elektriciteit_541448860008410850_20221014_20230227_kwartiertotalen.csv\",delimiter=';')"
   ]
  },
  {
   "cell_type": "code",
   "execution_count": 9,
   "metadata": {},
   "outputs": [
    {
     "data": {
      "text/html": [
       "<div>\n",
       "<style scoped>\n",
       "    .dataframe tbody tr th:only-of-type {\n",
       "        vertical-align: middle;\n",
       "    }\n",
       "\n",
       "    .dataframe tbody tr th {\n",
       "        vertical-align: top;\n",
       "    }\n",
       "\n",
       "    .dataframe thead th {\n",
       "        text-align: right;\n",
       "    }\n",
       "</style>\n",
       "<table border=\"1\" class=\"dataframe\">\n",
       "  <thead>\n",
       "    <tr style=\"text-align: right;\">\n",
       "      <th></th>\n",
       "      <th>Van Datum</th>\n",
       "      <th>Van Tijdstip</th>\n",
       "      <th>Tot Datum</th>\n",
       "      <th>Tot Tijdstip</th>\n",
       "      <th>EAN</th>\n",
       "      <th>Meter</th>\n",
       "      <th>Metertype</th>\n",
       "      <th>Register</th>\n",
       "      <th>Volume</th>\n",
       "      <th>Eenheid</th>\n",
       "      <th>Validatiestatus</th>\n",
       "    </tr>\n",
       "  </thead>\n",
       "  <tbody>\n",
       "    <tr>\n",
       "      <th>0</th>\n",
       "      <td>14-10-2022</td>\n",
       "      <td>00:00:00</td>\n",
       "      <td>14-10-2022</td>\n",
       "      <td>00:15:00</td>\n",
       "      <td>=\"541448860008410850\"</td>\n",
       "      <td>1SAG3100010760</td>\n",
       "      <td>Digitale Meter</td>\n",
       "      <td>Afname Nacht</td>\n",
       "      <td>NaN</td>\n",
       "      <td>kWh</td>\n",
       "      <td>Geen verbruik</td>\n",
       "    </tr>\n",
       "    <tr>\n",
       "      <th>1</th>\n",
       "      <td>14-10-2022</td>\n",
       "      <td>00:00:00</td>\n",
       "      <td>14-10-2022</td>\n",
       "      <td>00:15:00</td>\n",
       "      <td>=\"541448860008410850\"</td>\n",
       "      <td>1SAG3100010760</td>\n",
       "      <td>Digitale Meter</td>\n",
       "      <td>Injectie Nacht</td>\n",
       "      <td>NaN</td>\n",
       "      <td>kWh</td>\n",
       "      <td>Geen verbruik</td>\n",
       "    </tr>\n",
       "    <tr>\n",
       "      <th>2</th>\n",
       "      <td>14-10-2022</td>\n",
       "      <td>00:15:00</td>\n",
       "      <td>14-10-2022</td>\n",
       "      <td>00:30:00</td>\n",
       "      <td>=\"541448860008410850\"</td>\n",
       "      <td>1SAG3100010760</td>\n",
       "      <td>Digitale Meter</td>\n",
       "      <td>Afname Nacht</td>\n",
       "      <td>0,093</td>\n",
       "      <td>kWh</td>\n",
       "      <td>Gevalideerd</td>\n",
       "    </tr>\n",
       "    <tr>\n",
       "      <th>3</th>\n",
       "      <td>14-10-2022</td>\n",
       "      <td>00:15:00</td>\n",
       "      <td>14-10-2022</td>\n",
       "      <td>00:30:00</td>\n",
       "      <td>=\"541448860008410850\"</td>\n",
       "      <td>1SAG3100010760</td>\n",
       "      <td>Digitale Meter</td>\n",
       "      <td>Injectie Nacht</td>\n",
       "      <td>0,000</td>\n",
       "      <td>kWh</td>\n",
       "      <td>Gevalideerd</td>\n",
       "    </tr>\n",
       "    <tr>\n",
       "      <th>4</th>\n",
       "      <td>14-10-2022</td>\n",
       "      <td>00:30:00</td>\n",
       "      <td>14-10-2022</td>\n",
       "      <td>00:45:00</td>\n",
       "      <td>=\"541448860008410850\"</td>\n",
       "      <td>1SAG3100010760</td>\n",
       "      <td>Digitale Meter</td>\n",
       "      <td>Afname Nacht</td>\n",
       "      <td>0,120</td>\n",
       "      <td>kWh</td>\n",
       "      <td>Gevalideerd</td>\n",
       "    </tr>\n",
       "    <tr>\n",
       "      <th>...</th>\n",
       "      <td>...</td>\n",
       "      <td>...</td>\n",
       "      <td>...</td>\n",
       "      <td>...</td>\n",
       "      <td>...</td>\n",
       "      <td>...</td>\n",
       "      <td>...</td>\n",
       "      <td>...</td>\n",
       "      <td>...</td>\n",
       "      <td>...</td>\n",
       "      <td>...</td>\n",
       "    </tr>\n",
       "    <tr>\n",
       "      <th>26115</th>\n",
       "      <td>26-02-2023</td>\n",
       "      <td>23:15:00</td>\n",
       "      <td>26-02-2023</td>\n",
       "      <td>23:30:00</td>\n",
       "      <td>=\"541448860008410850\"</td>\n",
       "      <td>1SAG3100010760</td>\n",
       "      <td>Digitale Meter</td>\n",
       "      <td>Injectie Nacht</td>\n",
       "      <td>0,000</td>\n",
       "      <td>kWh</td>\n",
       "      <td>Gevalideerd</td>\n",
       "    </tr>\n",
       "    <tr>\n",
       "      <th>26116</th>\n",
       "      <td>26-02-2023</td>\n",
       "      <td>23:30:00</td>\n",
       "      <td>26-02-2023</td>\n",
       "      <td>23:45:00</td>\n",
       "      <td>=\"541448860008410850\"</td>\n",
       "      <td>1SAG3100010760</td>\n",
       "      <td>Digitale Meter</td>\n",
       "      <td>Afname Nacht</td>\n",
       "      <td>0,125</td>\n",
       "      <td>kWh</td>\n",
       "      <td>Gevalideerd</td>\n",
       "    </tr>\n",
       "    <tr>\n",
       "      <th>26117</th>\n",
       "      <td>26-02-2023</td>\n",
       "      <td>23:30:00</td>\n",
       "      <td>26-02-2023</td>\n",
       "      <td>23:45:00</td>\n",
       "      <td>=\"541448860008410850\"</td>\n",
       "      <td>1SAG3100010760</td>\n",
       "      <td>Digitale Meter</td>\n",
       "      <td>Injectie Nacht</td>\n",
       "      <td>0,000</td>\n",
       "      <td>kWh</td>\n",
       "      <td>Gevalideerd</td>\n",
       "    </tr>\n",
       "    <tr>\n",
       "      <th>26118</th>\n",
       "      <td>26-02-2023</td>\n",
       "      <td>23:45:00</td>\n",
       "      <td>27-02-2023</td>\n",
       "      <td>00:00:00</td>\n",
       "      <td>=\"541448860008410850\"</td>\n",
       "      <td>1SAG3100010760</td>\n",
       "      <td>Digitale Meter</td>\n",
       "      <td>Afname Nacht</td>\n",
       "      <td>0,126</td>\n",
       "      <td>kWh</td>\n",
       "      <td>Gevalideerd</td>\n",
       "    </tr>\n",
       "    <tr>\n",
       "      <th>26119</th>\n",
       "      <td>26-02-2023</td>\n",
       "      <td>23:45:00</td>\n",
       "      <td>27-02-2023</td>\n",
       "      <td>00:00:00</td>\n",
       "      <td>=\"541448860008410850\"</td>\n",
       "      <td>1SAG3100010760</td>\n",
       "      <td>Digitale Meter</td>\n",
       "      <td>Injectie Nacht</td>\n",
       "      <td>0,000</td>\n",
       "      <td>kWh</td>\n",
       "      <td>Gevalideerd</td>\n",
       "    </tr>\n",
       "  </tbody>\n",
       "</table>\n",
       "<p>26120 rows × 11 columns</p>\n",
       "</div>"
      ],
      "text/plain": [
       "        Van Datum Van Tijdstip   Tot Datum Tot Tijdstip  \\\n",
       "0      14-10-2022     00:00:00  14-10-2022     00:15:00   \n",
       "1      14-10-2022     00:00:00  14-10-2022     00:15:00   \n",
       "2      14-10-2022     00:15:00  14-10-2022     00:30:00   \n",
       "3      14-10-2022     00:15:00  14-10-2022     00:30:00   \n",
       "4      14-10-2022     00:30:00  14-10-2022     00:45:00   \n",
       "...           ...          ...         ...          ...   \n",
       "26115  26-02-2023     23:15:00  26-02-2023     23:30:00   \n",
       "26116  26-02-2023     23:30:00  26-02-2023     23:45:00   \n",
       "26117  26-02-2023     23:30:00  26-02-2023     23:45:00   \n",
       "26118  26-02-2023     23:45:00  27-02-2023     00:00:00   \n",
       "26119  26-02-2023     23:45:00  27-02-2023     00:00:00   \n",
       "\n",
       "                         EAN           Meter       Metertype        Register  \\\n",
       "0      =\"541448860008410850\"  1SAG3100010760  Digitale Meter    Afname Nacht   \n",
       "1      =\"541448860008410850\"  1SAG3100010760  Digitale Meter  Injectie Nacht   \n",
       "2      =\"541448860008410850\"  1SAG3100010760  Digitale Meter    Afname Nacht   \n",
       "3      =\"541448860008410850\"  1SAG3100010760  Digitale Meter  Injectie Nacht   \n",
       "4      =\"541448860008410850\"  1SAG3100010760  Digitale Meter    Afname Nacht   \n",
       "...                      ...             ...             ...             ...   \n",
       "26115  =\"541448860008410850\"  1SAG3100010760  Digitale Meter  Injectie Nacht   \n",
       "26116  =\"541448860008410850\"  1SAG3100010760  Digitale Meter    Afname Nacht   \n",
       "26117  =\"541448860008410850\"  1SAG3100010760  Digitale Meter  Injectie Nacht   \n",
       "26118  =\"541448860008410850\"  1SAG3100010760  Digitale Meter    Afname Nacht   \n",
       "26119  =\"541448860008410850\"  1SAG3100010760  Digitale Meter  Injectie Nacht   \n",
       "\n",
       "      Volume Eenheid Validatiestatus  \n",
       "0        NaN     kWh   Geen verbruik  \n",
       "1        NaN     kWh   Geen verbruik  \n",
       "2      0,093     kWh     Gevalideerd  \n",
       "3      0,000     kWh     Gevalideerd  \n",
       "4      0,120     kWh     Gevalideerd  \n",
       "...      ...     ...             ...  \n",
       "26115  0,000     kWh     Gevalideerd  \n",
       "26116  0,125     kWh     Gevalideerd  \n",
       "26117  0,000     kWh     Gevalideerd  \n",
       "26118  0,126     kWh     Gevalideerd  \n",
       "26119  0,000     kWh     Gevalideerd  \n",
       "\n",
       "[26120 rows x 11 columns]"
      ]
     },
     "execution_count": 9,
     "metadata": {},
     "output_type": "execute_result"
    }
   ],
   "source": [
    "dt"
   ]
  }
 ],
 "metadata": {
  "kernelspec": {
   "display_name": "Python 3",
   "language": "python",
   "name": "python3"
  },
  "language_info": {
   "codemirror_mode": {
    "name": "ipython",
    "version": 3
   },
   "file_extension": ".py",
   "mimetype": "text/x-python",
   "name": "python",
   "nbconvert_exporter": "python",
   "pygments_lexer": "ipython3",
   "version": "3.10.8"
  },
  "orig_nbformat": 4,
  "vscode": {
   "interpreter": {
    "hash": "ef5bd1a91bf266e76d73621220e2662b898087dd15c7c15334c6d7fb26c2c062"
   }
  }
 },
 "nbformat": 4,
 "nbformat_minor": 2
}
