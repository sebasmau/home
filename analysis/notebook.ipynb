{
 "cells": [
  {
   "cell_type": "code",
   "execution_count": 1,
   "metadata": {},
   "outputs": [],
   "source": [
    "import pyrebase\n",
    "import json\n",
    "import pandas as pd\n",
    "\n",
    "with open('../.streamlit/secrets.txt') as f:\n",
    "    lines = f.read()\n",
    "config = json.loads(lines)\n",
    "\n",
    "firebase = pyrebase.initialize_app(config)"
   ]
  },
  {
   "cell_type": "code",
   "execution_count": 2,
   "metadata": {},
   "outputs": [],
   "source": [
    "auth = firebase.auth()\n",
    "db = firebase.database()\n",
    "storage = firebase.storage()"
   ]
  },
  {
   "cell_type": "code",
   "execution_count": null,
   "metadata": {},
   "outputs": [],
   "source": [
    "user = auth.create_user_with_email_and_password(\"sebastien.mauroo@patrick.com\",\"123456\")"
   ]
  },
  {
   "cell_type": "code",
   "execution_count": 67,
   "metadata": {},
   "outputs": [],
   "source": [
    "try:\n",
    "    signin = auth.sign_in_with_email_and_password(\"sebastien.mauroo@outlook.com\",\"1234567\")\n",
    "except:\n",
    "    signin ={\"login failed\"}"
   ]
  },
  {
   "cell_type": "code",
   "execution_count": null,
   "metadata": {},
   "outputs": [],
   "source": [
    "signin\n"
   ]
  },
  {
   "cell_type": "code",
   "execution_count": null,
   "metadata": {},
   "outputs": [],
   "source": [
    "firebase.auth().send_email_verification(signin['idToken'])"
   ]
  },
  {
   "cell_type": "code",
   "execution_count": null,
   "metadata": {},
   "outputs": [],
   "source": [
    "firebase.auth().send_password_reset_email(\"sebastien.mauroo@outlook.com\")"
   ]
  },
  {
   "cell_type": "code",
   "execution_count": 68,
   "metadata": {},
   "outputs": [
    {
     "data": {
      "text/plain": [
       "{'kind': 'identitytoolkit#GetAccountInfoResponse',\n",
       " 'users': [{'localId': '8Ghnt52aWANjzWEUTwhWpFkp8832',\n",
       "   'email': 'sebastien.mauroo@outlook.com',\n",
       "   'passwordHash': 'UkVEQUNURUQ=',\n",
       "   'emailVerified': True,\n",
       "   'passwordUpdatedAt': 1677172127749,\n",
       "   'providerUserInfo': [{'providerId': 'password',\n",
       "     'federatedId': 'sebastien.mauroo@outlook.com',\n",
       "     'email': 'sebastien.mauroo@outlook.com',\n",
       "     'rawId': 'sebastien.mauroo@outlook.com'}],\n",
       "   'validSince': '1677172127',\n",
       "   'lastLoginAt': '1677964361227',\n",
       "   'createdAt': '1677102536535',\n",
       "   'lastRefreshAt': '2023-03-04T21:12:41.227Z'}]}"
      ]
     },
     "execution_count": 68,
     "metadata": {},
     "output_type": "execute_result"
    }
   ],
   "source": [
    "auth.get_account_info(signin['idToken'])"
   ]
  },
  {
   "cell_type": "code",
   "execution_count": 48,
   "metadata": {},
   "outputs": [
    {
     "data": {
      "text/plain": [
       "{'main_email_adress': ['sebastien.mauroo@outlook.com'],\n",
       " 'secundary_email': ['chris@firmagalle.be', 'mauroogalle@telenet.be']}"
      ]
     },
     "execution_count": 48,
     "metadata": {},
     "output_type": "execute_result"
    }
   ],
   "source": [
    "\n",
    "metermac_status = {\"main_email_adress\":[\"sebastien.mauroo@outlook.com\"],\"secundary_email\":[\"chris@firmagalle.be\",\"mauroogalle@telenet.be\"]}\n",
    "db.child(\"metermac\").child(\"acbfbd98240\").set(metermac_status)"
   ]
  },
  {
   "cell_type": "code",
   "execution_count": 42,
   "metadata": {},
   "outputs": [
    {
     "data": {
      "text/plain": [
       "{'main_email_adress': ['brecht.lauwers@outlook.com']}"
      ]
     },
     "execution_count": 42,
     "metadata": {},
     "output_type": "execute_result"
    }
   ],
   "source": [
    "metermac_status = {\"main_email_adress\":[\"brecht.lauwers@outlook.com\"]}\n",
    "db.child(\"user\").child(\"acbfbda4d6a\").set(metermac_status)"
   ]
  },
  {
   "cell_type": "code",
   "execution_count": 55,
   "metadata": {},
   "outputs": [
    {
     "data": {
      "text/plain": [
       "{'main_email_adress': ['brecht.lauwers@outlook.com']}"
      ]
     },
     "execution_count": 55,
     "metadata": {},
     "output_type": "execute_result"
    }
   ],
   "source": [
    "metermac_status = {\"main_email_adress\":[\"brecht.lauwers@outlook.com\"]}\n",
    "db.child(\"test\").child(\"sdf\").set(metermac_status)"
   ]
  },
  {
   "cell_type": "code",
   "execution_count": 47,
   "metadata": {},
   "outputs": [
    {
     "data": {
      "text/plain": [
       "OrderedDict([('acbfbd98240',\n",
       "              {'main_email_adress': ['sebastien.mauroo@outlook.com'],\n",
       "               'secundary_email': ['chris@firmagalle.be',\n",
       "                'mauroogalle@telenet.be']}),\n",
       "             ('acbfbda4d6a',\n",
       "              {'main_email_adress': ['brecht.lauwers@outlook.com']})])"
      ]
     },
     "execution_count": 47,
     "metadata": {},
     "output_type": "execute_result"
    }
   ],
   "source": [
    "db.child(\"metermac\").get().val()"
   ]
  },
  {
   "cell_type": "code",
   "execution_count": 54,
   "metadata": {},
   "outputs": [],
   "source": [
    "db.child(\"metermac\").child(\"acbfbd@a4d6a\").get().val()"
   ]
  },
  {
   "cell_type": "code",
   "execution_count": 63,
   "metadata": {},
   "outputs": [],
   "source": [
    "all_metermac = list(db.child(\"metermac\").shallow().get().val()) ##get all key values (shallow), and then make a readable list out of the val() you read\n",
    "\n"
   ]
  },
  {
   "cell_type": "code",
   "execution_count": 70,
   "metadata": {},
   "outputs": [
    {
     "data": {
      "text/plain": [
       "True"
      ]
     },
     "execution_count": 70,
     "metadata": {},
     "output_type": "execute_result"
    }
   ],
   "source": [
    "all_existing_meter_macs = list(db.child(\"metermac\").shallow().get().val()) ##get all key values (shallow), and then make a readable list out of the val() you read\n",
    "\"acbfbd98240\" in all_existing_meter_macs\n"
   ]
  },
  {
   "cell_type": "code",
   "execution_count": 65,
   "metadata": {},
   "outputs": [
    {
     "data": {
      "text/plain": [
       "True"
      ]
     },
     "execution_count": 65,
     "metadata": {},
     "output_type": "execute_result"
    }
   ],
   "source": [
    "'acbfbd98240' in all_metermac"
   ]
  },
  {
   "cell_type": "code",
   "execution_count": null,
   "metadata": {},
   "outputs": [],
   "source": [
    "dt = pd.read_csv(\"testdata_fluvius.csv\",delimiter=';',decimal=',')"
   ]
  },
  {
   "cell_type": "code",
   "execution_count": null,
   "metadata": {},
   "outputs": [],
   "source": [
    "dt"
   ]
  },
  {
   "cell_type": "code",
   "execution_count": null,
   "metadata": {},
   "outputs": [],
   "source": [
    "###get start period\n",
    "dt['start_time'] = pd.to_datetime(dt.iloc[:,0] + \" \" + dt.iloc[:,1],format='%d-%m-%Y %H:%M:%S')\n",
    "\n",
    "###get end period\n",
    "dt['end_time'] = pd.to_datetime(dt.iloc[:,2] + \" \" + dt.iloc[:,3],format='%d-%m-%Y %H:%M:%S')"
   ]
  },
  {
   "cell_type": "code",
   "execution_count": null,
   "metadata": {},
   "outputs": [],
   "source": [
    "#get repeated parameters\n",
    "EAN_code = dt[\"EAN\"].iloc[0].replace('=','').replace('\"','')\n",
    "Meter_code = dt[\"Meter\"].iloc[0]\n",
    "Meter_type = dt[\"Metertype\"].iloc[0]\n",
    "Power_unit = dt[\"Eenheid\"].iloc[0]\n",
    "Time_unit = (dt[\"end_time\"].iloc[0] - dt[\"start_time\"].iloc[0]).seconds/60 ##15 bij kwartier waarden, 60 bij uurwaarden\n",
    "Data_period = (dt[\"start_time\"].iloc[-1] - dt[\"start_time\"].iloc[0]).round('d').days"
   ]
  },
  {
   "cell_type": "code",
   "execution_count": null,
   "metadata": {},
   "outputs": [],
   "source": [
    "dt = dt.dropna()[['start_time','end_time','Volume','Register']]"
   ]
  },
  {
   "cell_type": "code",
   "execution_count": null,
   "metadata": {},
   "outputs": [],
   "source": [
    "#########AANPASSEN NAAR INJECTIE\n",
    "\n",
    "######injection analysis\n",
    "\n",
    "#Estimated solar capacity\n",
    "var1 = dt[dt['Register'].str.contains('Afname')]['Volume'].nlargest(3) ###largest 3 injectinos\n",
    "Estimated_generation_capacity = var1.mean()*60/Time_unit ###60/Time_unit converts kWh towards kW\n",
    "\n",
    "#Has solar panels\n",
    "Has_solar_panels = True if Estimated_generation_capacity >= 0.6 else False  ###2 solar panels = +-600W"
   ]
  },
  {
   "cell_type": "code",
   "execution_count": null,
   "metadata": {},
   "outputs": [],
   "source": [
    "dt[dt['Register'].str.contains('Afname')]['Volume'].nlargest(3) ###largest 3 injectinos"
   ]
  },
  {
   "cell_type": "code",
   "execution_count": null,
   "metadata": {},
   "outputs": [],
   "source": [
    "dt"
   ]
  },
  {
   "cell_type": "code",
   "execution_count": null,
   "metadata": {},
   "outputs": [],
   "source": [
    "graphtable = dt.pivot_table(index='end_time', columns='Register', values='Volume',aggfunc='mean').fillna(0)\n",
    "graphtable['Afname'] = graphtable['Afname Dag'] + graphtable['Afname Nacht']\n",
    "graphtable['Injectie'] = graphtable['Injectie Dag'] + graphtable['Injectie Nacht']\n",
    "graphtable[['Afname','Injectie']]"
   ]
  },
  {
   "cell_type": "code",
   "execution_count": null,
   "metadata": {},
   "outputs": [],
   "source": [
    "graphtable[['Afname','Injectie']]"
   ]
  }
 ],
 "metadata": {
  "kernelspec": {
   "display_name": "Python 3",
   "language": "python",
   "name": "python3"
  },
  "language_info": {
   "codemirror_mode": {
    "name": "ipython",
    "version": 3
   },
   "file_extension": ".py",
   "mimetype": "text/x-python",
   "name": "python",
   "nbconvert_exporter": "python",
   "pygments_lexer": "ipython3",
   "version": "3.10.8"
  },
  "orig_nbformat": 4,
  "vscode": {
   "interpreter": {
    "hash": "ef5bd1a91bf266e76d73621220e2662b898087dd15c7c15334c6d7fb26c2c062"
   }
  }
 },
 "nbformat": 4,
 "nbformat_minor": 2
}
