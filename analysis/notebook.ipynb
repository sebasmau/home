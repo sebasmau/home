{
 "cells": [
  {
   "cell_type": "code",
   "execution_count": 2,
   "metadata": {},
   "outputs": [],
   "source": [
    "import pyrebase\n",
    "import json\n",
    "import pandas as pd\n",
    "\n",
    "with open('../.streamlit/secrets.txt') as f:\n",
    "    lines = f.read()\n",
    "config = json.loads(lines)\n",
    "\n",
    "firebase = pyrebase.initialize_app(config)"
   ]
  },
  {
   "cell_type": "code",
   "execution_count": 2,
   "metadata": {},
   "outputs": [],
   "source": [
    "auth = firebase.auth()\n",
    "db = firebase.database()\n",
    "storage = firebase.storage()"
   ]
  },
  {
   "cell_type": "code",
   "execution_count": null,
   "metadata": {},
   "outputs": [],
   "source": [
    "user = auth.create_user_with_email_and_password(\"sebastien.mauroo@patrick.com\",\"123456\")"
   ]
  },
  {
   "cell_type": "code",
   "execution_count": 67,
   "metadata": {},
   "outputs": [],
   "source": [
    "try:\n",
    "    signin = auth.sign_in_with_email_and_password(\"sebastien.mauroo@outlook.com\",\"1234567\")\n",
    "except:\n",
    "    signin ={\"login failed\"}"
   ]
  },
  {
   "cell_type": "code",
   "execution_count": null,
   "metadata": {},
   "outputs": [],
   "source": [
    "signin\n"
   ]
  },
  {
   "cell_type": "code",
   "execution_count": null,
   "metadata": {},
   "outputs": [],
   "source": [
    "firebase.auth().send_email_verification(signin['idToken'])"
   ]
  },
  {
   "cell_type": "code",
   "execution_count": null,
   "metadata": {},
   "outputs": [],
   "source": [
    "firebase.auth().send_password_reset_email(\"sebastien.mauroo@outlook.com\")"
   ]
  },
  {
   "cell_type": "code",
   "execution_count": 68,
   "metadata": {},
   "outputs": [
    {
     "data": {
      "text/plain": [
       "{'kind': 'identitytoolkit#GetAccountInfoResponse',\n",
       " 'users': [{'localId': '8Ghnt52aWANjzWEUTwhWpFkp8832',\n",
       "   'email': 'sebastien.mauroo@outlook.com',\n",
       "   'passwordHash': 'UkVEQUNURUQ=',\n",
       "   'emailVerified': True,\n",
       "   'passwordUpdatedAt': 1677172127749,\n",
       "   'providerUserInfo': [{'providerId': 'password',\n",
       "     'federatedId': 'sebastien.mauroo@outlook.com',\n",
       "     'email': 'sebastien.mauroo@outlook.com',\n",
       "     'rawId': 'sebastien.mauroo@outlook.com'}],\n",
       "   'validSince': '1677172127',\n",
       "   'lastLoginAt': '1677964361227',\n",
       "   'createdAt': '1677102536535',\n",
       "   'lastRefreshAt': '2023-03-04T21:12:41.227Z'}]}"
      ]
     },
     "execution_count": 68,
     "metadata": {},
     "output_type": "execute_result"
    }
   ],
   "source": [
    "auth.get_account_info(signin['idToken'])"
   ]
  },
  {
   "cell_type": "code",
   "execution_count": 48,
   "metadata": {},
   "outputs": [
    {
     "data": {
      "text/plain": [
       "{'main_email_adress': ['sebastien.mauroo@outlook.com'],\n",
       " 'secundary_email': ['chris@firmagalle.be', 'mauroogalle@telenet.be']}"
      ]
     },
     "execution_count": 48,
     "metadata": {},
     "output_type": "execute_result"
    }
   ],
   "source": [
    "\n",
    "metermac_status = {\"main_email_adress\":[\"sebastien.mauroo@outlook.com\"],\"secundary_email\":[\"chris@firmagalle.be\",\"mauroogalle@telenet.be\"]}\n",
    "db.child(\"metermac\").child(\"acbfbd98240\").set(metermac_status)"
   ]
  },
  {
   "cell_type": "code",
   "execution_count": 42,
   "metadata": {},
   "outputs": [
    {
     "data": {
      "text/plain": [
       "{'main_email_adress': ['brecht.lauwers@outlook.com']}"
      ]
     },
     "execution_count": 42,
     "metadata": {},
     "output_type": "execute_result"
    }
   ],
   "source": [
    "metermac_status = {\"main_email_adress\":[\"brecht.lauwers@outlook.com\"]}\n",
    "db.child(\"user\").child(\"acbfbda4d6a\").set(metermac_status)"
   ]
  },
  {
   "cell_type": "code",
   "execution_count": 55,
   "metadata": {},
   "outputs": [
    {
     "data": {
      "text/plain": [
       "{'main_email_adress': ['brecht.lauwers@outlook.com']}"
      ]
     },
     "execution_count": 55,
     "metadata": {},
     "output_type": "execute_result"
    }
   ],
   "source": [
    "metermac_status = {\"main_email_adress\":[\"brecht.lauwers@outlook.com\"]}\n",
    "db.child(\"test\").child(\"sdf\").set(metermac_status)"
   ]
  },
  {
   "cell_type": "code",
   "execution_count": 47,
   "metadata": {},
   "outputs": [
    {
     "data": {
      "text/plain": [
       "OrderedDict([('acbfbd98240',\n",
       "              {'main_email_adress': ['sebastien.mauroo@outlook.com'],\n",
       "               'secundary_email': ['chris@firmagalle.be',\n",
       "                'mauroogalle@telenet.be']}),\n",
       "             ('acbfbda4d6a',\n",
       "              {'main_email_adress': ['brecht.lauwers@outlook.com']})])"
      ]
     },
     "execution_count": 47,
     "metadata": {},
     "output_type": "execute_result"
    }
   ],
   "source": [
    "db.child(\"metermac\").get().val()"
   ]
  },
  {
   "cell_type": "code",
   "execution_count": 54,
   "metadata": {},
   "outputs": [],
   "source": [
    "db.child(\"metermac\").child(\"acbfbd@a4d6a\").get().val()"
   ]
  },
  {
   "cell_type": "code",
   "execution_count": 63,
   "metadata": {},
   "outputs": [],
   "source": [
    "all_metermac = list(db.child(\"metermac\").shallow().get().val()) ##get all key values (shallow), and then make a readable list out of the val() you read\n",
    "\n"
   ]
  },
  {
   "cell_type": "code",
   "execution_count": 70,
   "metadata": {},
   "outputs": [
    {
     "data": {
      "text/plain": [
       "True"
      ]
     },
     "execution_count": 70,
     "metadata": {},
     "output_type": "execute_result"
    }
   ],
   "source": [
    "all_existing_meter_macs = list(db.child(\"metermac\").shallow().get().val()) ##get all key values (shallow), and then make a readable list out of the val() you read\n",
    "\"acbfbd98240\" in all_existing_meter_macs\n"
   ]
  },
  {
   "cell_type": "code",
   "execution_count": 65,
   "metadata": {},
   "outputs": [
    {
     "data": {
      "text/plain": [
       "True"
      ]
     },
     "execution_count": 65,
     "metadata": {},
     "output_type": "execute_result"
    }
   ],
   "source": [
    "'acbfbd98240' in all_metermac"
   ]
  },
  {
   "cell_type": "code",
   "execution_count": 3,
   "metadata": {},
   "outputs": [],
   "source": [
    "dt = pd.read_csv(\"testdata_fluvius.csv\",delimiter=';',decimal=',')"
   ]
  },
  {
   "cell_type": "code",
   "execution_count": 7,
   "metadata": {},
   "outputs": [
    {
     "data": {
      "text/html": [
       "<div>\n",
       "<style scoped>\n",
       "    .dataframe tbody tr th:only-of-type {\n",
       "        vertical-align: middle;\n",
       "    }\n",
       "\n",
       "    .dataframe tbody tr th {\n",
       "        vertical-align: top;\n",
       "    }\n",
       "\n",
       "    .dataframe thead th {\n",
       "        text-align: right;\n",
       "    }\n",
       "</style>\n",
       "<table border=\"1\" class=\"dataframe\">\n",
       "  <thead>\n",
       "    <tr style=\"text-align: right;\">\n",
       "      <th></th>\n",
       "      <th>Van Datum</th>\n",
       "      <th>Van Tijdstip</th>\n",
       "      <th>Tot Datum</th>\n",
       "      <th>Tot Tijdstip</th>\n",
       "      <th>EAN</th>\n",
       "      <th>Meter</th>\n",
       "      <th>Metertype</th>\n",
       "      <th>Register</th>\n",
       "      <th>Volume</th>\n",
       "      <th>Eenheid</th>\n",
       "      <th>Validatiestatus</th>\n",
       "      <th>start_time</th>\n",
       "      <th>end_time</th>\n",
       "    </tr>\n",
       "  </thead>\n",
       "  <tbody>\n",
       "    <tr>\n",
       "      <th>0</th>\n",
       "      <td>14-10-2022</td>\n",
       "      <td>00:00:00</td>\n",
       "      <td>14-10-2022</td>\n",
       "      <td>00:15:00</td>\n",
       "      <td>=\"541448860008410850\"</td>\n",
       "      <td>1SAG3100010760</td>\n",
       "      <td>Digitale Meter</td>\n",
       "      <td>Afname Nacht</td>\n",
       "      <td>NaN</td>\n",
       "      <td>kWh</td>\n",
       "      <td>Geen verbruik</td>\n",
       "      <td>2022-10-14 00:00:00</td>\n",
       "      <td>2022-10-14 00:15:00</td>\n",
       "    </tr>\n",
       "    <tr>\n",
       "      <th>1</th>\n",
       "      <td>14-10-2022</td>\n",
       "      <td>00:00:00</td>\n",
       "      <td>14-10-2022</td>\n",
       "      <td>00:15:00</td>\n",
       "      <td>=\"541448860008410850\"</td>\n",
       "      <td>1SAG3100010760</td>\n",
       "      <td>Digitale Meter</td>\n",
       "      <td>Injectie Nacht</td>\n",
       "      <td>NaN</td>\n",
       "      <td>kWh</td>\n",
       "      <td>Geen verbruik</td>\n",
       "      <td>2022-10-14 00:00:00</td>\n",
       "      <td>2022-10-14 00:15:00</td>\n",
       "    </tr>\n",
       "    <tr>\n",
       "      <th>2</th>\n",
       "      <td>14-10-2022</td>\n",
       "      <td>00:15:00</td>\n",
       "      <td>14-10-2022</td>\n",
       "      <td>00:30:00</td>\n",
       "      <td>=\"541448860008410850\"</td>\n",
       "      <td>1SAG3100010760</td>\n",
       "      <td>Digitale Meter</td>\n",
       "      <td>Afname Nacht</td>\n",
       "      <td>0.093</td>\n",
       "      <td>kWh</td>\n",
       "      <td>Gevalideerd</td>\n",
       "      <td>2022-10-14 00:15:00</td>\n",
       "      <td>2022-10-14 00:30:00</td>\n",
       "    </tr>\n",
       "    <tr>\n",
       "      <th>3</th>\n",
       "      <td>14-10-2022</td>\n",
       "      <td>00:15:00</td>\n",
       "      <td>14-10-2022</td>\n",
       "      <td>00:30:00</td>\n",
       "      <td>=\"541448860008410850\"</td>\n",
       "      <td>1SAG3100010760</td>\n",
       "      <td>Digitale Meter</td>\n",
       "      <td>Injectie Nacht</td>\n",
       "      <td>0.000</td>\n",
       "      <td>kWh</td>\n",
       "      <td>Gevalideerd</td>\n",
       "      <td>2022-10-14 00:15:00</td>\n",
       "      <td>2022-10-14 00:30:00</td>\n",
       "    </tr>\n",
       "    <tr>\n",
       "      <th>4</th>\n",
       "      <td>14-10-2022</td>\n",
       "      <td>00:30:00</td>\n",
       "      <td>14-10-2022</td>\n",
       "      <td>00:45:00</td>\n",
       "      <td>=\"541448860008410850\"</td>\n",
       "      <td>1SAG3100010760</td>\n",
       "      <td>Digitale Meter</td>\n",
       "      <td>Afname Nacht</td>\n",
       "      <td>0.120</td>\n",
       "      <td>kWh</td>\n",
       "      <td>Gevalideerd</td>\n",
       "      <td>2022-10-14 00:30:00</td>\n",
       "      <td>2022-10-14 00:45:00</td>\n",
       "    </tr>\n",
       "  </tbody>\n",
       "</table>\n",
       "</div>"
      ],
      "text/plain": [
       "    Van Datum Van Tijdstip   Tot Datum Tot Tijdstip                    EAN  \\\n",
       "0  14-10-2022     00:00:00  14-10-2022     00:15:00  =\"541448860008410850\"   \n",
       "1  14-10-2022     00:00:00  14-10-2022     00:15:00  =\"541448860008410850\"   \n",
       "2  14-10-2022     00:15:00  14-10-2022     00:30:00  =\"541448860008410850\"   \n",
       "3  14-10-2022     00:15:00  14-10-2022     00:30:00  =\"541448860008410850\"   \n",
       "4  14-10-2022     00:30:00  14-10-2022     00:45:00  =\"541448860008410850\"   \n",
       "\n",
       "            Meter       Metertype        Register  Volume Eenheid  \\\n",
       "0  1SAG3100010760  Digitale Meter    Afname Nacht     NaN     kWh   \n",
       "1  1SAG3100010760  Digitale Meter  Injectie Nacht     NaN     kWh   \n",
       "2  1SAG3100010760  Digitale Meter    Afname Nacht   0.093     kWh   \n",
       "3  1SAG3100010760  Digitale Meter  Injectie Nacht   0.000     kWh   \n",
       "4  1SAG3100010760  Digitale Meter    Afname Nacht   0.120     kWh   \n",
       "\n",
       "  Validatiestatus          start_time            end_time  \n",
       "0   Geen verbruik 2022-10-14 00:00:00 2022-10-14 00:15:00  \n",
       "1   Geen verbruik 2022-10-14 00:00:00 2022-10-14 00:15:00  \n",
       "2     Gevalideerd 2022-10-14 00:15:00 2022-10-14 00:30:00  \n",
       "3     Gevalideerd 2022-10-14 00:15:00 2022-10-14 00:30:00  \n",
       "4     Gevalideerd 2022-10-14 00:30:00 2022-10-14 00:45:00  "
      ]
     },
     "execution_count": 7,
     "metadata": {},
     "output_type": "execute_result"
    }
   ],
   "source": [
    "dt.head(5)"
   ]
  },
  {
   "cell_type": "code",
   "execution_count": 5,
   "metadata": {},
   "outputs": [],
   "source": [
    "###get start period\n",
    "dt['start_time'] = pd.to_datetime(dt.iloc[:,0] + \" \" + dt.iloc[:,1],format='%d-%m-%Y %H:%M:%S')\n",
    "\n",
    "###get end period\n",
    "dt['end_time'] = pd.to_datetime(dt.iloc[:,2] + \" \" + dt.iloc[:,3],format='%d-%m-%Y %H:%M:%S')"
   ]
  },
  {
   "cell_type": "code",
   "execution_count": 6,
   "metadata": {},
   "outputs": [],
   "source": [
    "#get repeated parameters\n",
    "EAN_code = dt[\"EAN\"].iloc[0].replace('=','').replace('\"','')\n",
    "Meter_code = dt[\"Meter\"].iloc[0]\n",
    "Meter_type = dt[\"Metertype\"].iloc[0]\n",
    "Power_unit = dt[\"Eenheid\"].iloc[0]\n",
    "Time_unit = (dt[\"end_time\"].iloc[0] - dt[\"start_time\"].iloc[0]).seconds/60 ##15 bij kwartier waarden, 60 bij uurwaarden\n",
    "Data_period = (dt[\"start_time\"].iloc[-1] - dt[\"start_time\"].iloc[0]).round('d').days"
   ]
  },
  {
   "cell_type": "code",
   "execution_count": 12,
   "metadata": {},
   "outputs": [
    {
     "data": {
      "text/plain": [
       "'1SAG3100010760'"
      ]
     },
     "execution_count": 12,
     "metadata": {},
     "output_type": "execute_result"
    }
   ],
   "source": [
    "Meter_code"
   ]
  },
  {
   "cell_type": "code",
   "execution_count": 9,
   "metadata": {},
   "outputs": [],
   "source": [
    "dt = dt.dropna()[['start_time','end_time','Volume','Register']]"
   ]
  },
  {
   "cell_type": "code",
   "execution_count": null,
   "metadata": {},
   "outputs": [],
   "source": [
    "#########AANPASSEN NAAR INJECTIE\n",
    "\n",
    "######injection analysis\n",
    "\n",
    "#Estimated solar capacity\n",
    "var1 = dt[dt['Register'].str.contains('Afname')]['Volume'].nlargest(3) ###largest 3 injectinos\n",
    "Estimated_generation_capacity = var1.mean()*60/Time_unit ###60/Time_unit converts kWh towards kW\n",
    "\n",
    "#Has solar panels\n",
    "Has_solar_panels = True if Estimated_generation_capacity >= 0.6 else False  ###2 solar panels = +-600W"
   ]
  },
  {
   "cell_type": "code",
   "execution_count": null,
   "metadata": {},
   "outputs": [],
   "source": [
    "dt[dt['Register'].str.contains('Afname')]['Volume'].nlargest(3) ###largest 3 injectinos"
   ]
  },
  {
   "cell_type": "code",
   "execution_count": null,
   "metadata": {},
   "outputs": [],
   "source": [
    "dt"
   ]
  },
  {
   "cell_type": "code",
   "execution_count": null,
   "metadata": {},
   "outputs": [],
   "source": [
    "graphtable = dt.pivot_table(index='end_time', columns='Register', values='Volume',aggfunc='mean').fillna(0)\n",
    "graphtable['Afname'] = graphtable['Afname Dag'] + graphtable['Afname Nacht']\n",
    "graphtable['Injectie'] = graphtable['Injectie Dag'] + graphtable['Injectie Nacht']\n",
    "graphtable[['Afname','Injectie']]"
   ]
  },
  {
   "cell_type": "code",
   "execution_count": null,
   "metadata": {},
   "outputs": [],
   "source": [
    "graphtable[['Afname','Injectie']]"
   ]
  }
 ],
 "metadata": {
  "kernelspec": {
   "display_name": "Python 3",
   "language": "python",
   "name": "python3"
  },
  "language_info": {
   "codemirror_mode": {
    "name": "ipython",
    "version": 3
   },
   "file_extension": ".py",
   "mimetype": "text/x-python",
   "name": "python",
   "nbconvert_exporter": "python",
   "pygments_lexer": "ipython3",
   "version": "3.10.8"
  },
  "orig_nbformat": 4,
  "vscode": {
   "interpreter": {
    "hash": "ef5bd1a91bf266e76d73621220e2662b898087dd15c7c15334c6d7fb26c2c062"
   }
  }
 },
 "nbformat": 4,
 "nbformat_minor": 2
}
